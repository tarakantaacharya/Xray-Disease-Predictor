{
  "nbformat": 4,
  "nbformat_minor": 0,
  "metadata": {
    "colab": {
      "provenance": [],
      "mount_file_id": "1mG6RGsmNot2pStnRu4D4ielSdHP4OtHz",
      "authorship_tag": "ABX9TyPrEAk152+kK/ndR1W2u87F",
      "include_colab_link": true
    },
    "kernelspec": {
      "name": "python3",
      "display_name": "Python 3"
    },
    "language_info": {
      "name": "python"
    }
  },
  "cells": [
    {
      "cell_type": "markdown",
      "metadata": {
        "id": "view-in-github",
        "colab_type": "text"
      },
      "source": [
        "<a href=\"https://colab.research.google.com/github/tarakantaacharya/Xray-Disease-Predictor/blob/main/app.ipynb\" target=\"_parent\"><img src=\"https://colab.research.google.com/assets/colab-badge.svg\" alt=\"Open In Colab\"/></a>"
      ]
    },
    {
      "cell_type": "code",
      "source": [
        "!pip install pyngrok"
      ],
      "metadata": {
        "colab": {
          "base_uri": "https://localhost:8080/"
        },
        "id": "V26hhM26Z8OQ",
        "outputId": "ccaf5078-54e5-486e-d2b3-c788985f46c3"
      },
      "execution_count": 2,
      "outputs": [
        {
          "output_type": "stream",
          "name": "stdout",
          "text": [
            "Collecting pyngrok\n",
            "  Downloading pyngrok-7.2.11-py3-none-any.whl.metadata (9.4 kB)\n",
            "Requirement already satisfied: PyYAML>=5.1 in /usr/local/lib/python3.11/dist-packages (from pyngrok) (6.0.2)\n",
            "Downloading pyngrok-7.2.11-py3-none-any.whl (25 kB)\n",
            "Installing collected packages: pyngrok\n",
            "Successfully installed pyngrok-7.2.11\n"
          ]
        }
      ]
    },
    {
      "cell_type": "code",
      "source": [
        "# from flask import Flask, request, jsonify # Already imported below\n",
        "# from werkzeug.utils import secure_filename # Already imported below\n",
        "# import os # Already imported below\n",
        "# from tensorflow.keras.models import load_model # Already imported below\n",
        "# from tensorflow.keras.preprocessing import image # Already imported below\n",
        "# import numpy as np # Already imported below\n",
        "# from pyngrok import ngrok # Already imported below\n",
        "from flask import Flask, request, jsonify, render_template\n",
        "from werkzeug.utils import secure_filename\n",
        "import os\n",
        "import numpy as np\n",
        "from tensorflow.keras.models import load_model\n",
        "from tensorflow.keras.preprocessing import image\n",
        "import cv2\n",
        "import base64\n",
        "from pyngrok import ngrok\n",
        "\n",
        "# Specify the templates folder explicitly\n",
        "app = Flask(__name__, template_folder='/content/drive/MyDrive/XrayDetection/templates')\n",
        "model = load_model('/content/drive/MyDrive/XrayDetection/newpathmodel3.keras')\n",
        "\n",
        "ALLOWED_EXTENSIONS = {'png', 'jpg', 'jpeg'}\n",
        "\n",
        "def allowed_file(filename):\n",
        "    return '.' in filename and filename.rsplit('.', 1)[1].lower() in ALLOWED_EXTENSIONS\n",
        "\n",
        "def preprocess_image(img_path, target_size=(256, 256)):\n",
        "    img = image.load_img(img_path, target_size=target_size)\n",
        "    img_array = image.img_to_array(img)\n",
        "    img_array = np.expand_dims(img_array, axis=0)\n",
        "    img_array = img_array / 255.0\n",
        "    return img_array\n",
        "\n",
        "def classify_image(img_path, model):\n",
        "    input_image = preprocess_image(img_path)\n",
        "    predictions = model.predict(input_image)\n",
        "    predicted_class_index = np.argmax(predictions, axis=1)\n",
        "    class_names = ['COVID-19/कोविड/కోవిడ్', 'NORMAL/सामान्य/సాధారణ', 'PNEUMONIA/न्यूमोनिया/న్యుమోనియా']\n",
        "    predicted_class_label = class_names[predicted_class_index[0]]\n",
        "    return predicted_class_label, predictions[0]\n",
        "\n",
        "@app.route('/')\n",
        "def home():\n",
        "    # Now only the filename is needed as the template_folder is set\n",
        "    return render_template('index7.html')\n",
        "\n",
        "@app.route('/upload', methods=['POST'])\n",
        "def upload_file():\n",
        "    global model\n",
        "\n",
        "    if 'file' not in request.files:\n",
        "        return jsonify({'result': \"No file part\"})\n",
        "\n",
        "    file = request.files['file']\n",
        "\n",
        "    if file.filename == '':\n",
        "        return jsonify({'result': \"No selected file\"})\n",
        "\n",
        "    if file and allowed_file(file.filename):\n",
        "        try:\n",
        "            # Save the file temporarily\n",
        "            filename = secure_filename(file.filename)\n",
        "            file_path = os.path.join('/tmp', filename)\n",
        "            file.save(file_path)\n",
        "\n",
        "            # Classify the image\n",
        "            predicted_class_label, probabilities = classify_image(file_path, model)\n",
        "\n",
        "            # Load the original image for display\n",
        "            original_img = cv2.imread(file_path)\n",
        "            original_img = cv2.cvtColor(original_img, cv2.COLOR_BGR2RGB)\n",
        "\n",
        "            # Remove the temporary file\n",
        "            os.remove(file_path)\n",
        "\n",
        "            # Prepare data to send to the template\n",
        "            img_str = cv2.imencode('.jpg', original_img)[1].tobytes()\n",
        "            img_base64 = \"data:image/jpeg;base64,\" + base64.b64encode(img_str).decode('utf-8')\n",
        "\n",
        "            result_text = f\"COVID-19/कोविड/కోవిడ్: {probabilities[0]:.2f}, NORMAL/सामान्य/సాధారణ: {probabilities[1]:.2f}, PNEUMONIA/न्यूमोनिया/న్యుమోనియా: {probabilities[2]:.2f}\"\n",
        "\n",
        "            # Only the filename is needed here as well\n",
        "            return render_template('index2.html', prediction=predicted_class_label, probabilities=result_text, image=img_base64)\n",
        "\n",
        "        except Exception as e:\n",
        "            return jsonify({'result': f\"Error processing file: {str(e)}\"})\n",
        "\n",
        "    else:\n",
        "        return jsonify({'result': \"File type not allowed\"})\n",
        "\n",
        "if __name__ == '__main__':\n",
        "    ngrok.set_auth_token(\"2jEsPzf639Wdp2EFpeDqjRkvamr_7CW5emBByF7rE3WJ6efMN\")\n",
        "    public_url = ngrok.connect(5000)\n",
        "    print(f\"Ngrok Tunnel: {public_url}\")\n",
        "    app.run(host='0.0.0.0', port=5000)"
      ],
      "metadata": {
        "colab": {
          "base_uri": "https://localhost:8080/"
        },
        "id": "V6KLXNdpb_XX",
        "outputId": "b75b6b92-4a17-4ce4-c4e8-320425f4b96c"
      },
      "execution_count": 7,
      "outputs": [
        {
          "metadata": {
            "tags": null
          },
          "name": "stdout",
          "output_type": "stream",
          "text": [
            "Ngrok Tunnel: NgrokTunnel: \"https://891c-34-16-136-68.ngrok-free.app\" -> \"http://localhost:5000\"\n",
            " * Serving Flask app '__main__'\n",
            " * Debug mode: off\n"
          ]
        },
        {
          "metadata": {
            "tags": null
          },
          "name": "stderr",
          "output_type": "stream",
          "text": [
            "INFO:werkzeug:\u001b[31m\u001b[1mWARNING: This is a development server. Do not use it in a production deployment. Use a production WSGI server instead.\u001b[0m\n",
            " * Running on all addresses (0.0.0.0)\n",
            " * Running on http://127.0.0.1:5000\n",
            " * Running on http://172.28.0.12:5000\n",
            "INFO:werkzeug:\u001b[33mPress CTRL+C to quit\u001b[0m\n",
            "INFO:werkzeug:127.0.0.1 - - [13/Jun/2025 13:17:57] \"GET / HTTP/1.1\" 200 -\n",
            "INFO:werkzeug:127.0.0.1 - - [13/Jun/2025 13:17:58] \"\u001b[33mGET /favicon.ico HTTP/1.1\u001b[0m\" 404 -\n"
          ]
        }
      ]
    }
  ]
}